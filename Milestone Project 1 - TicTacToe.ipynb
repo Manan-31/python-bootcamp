{
  "cells": [
    {
      "cell_type": "markdown",
      "metadata": {
        "id": "FdoWOXkbnTZ1"
      },
      "source": [
        "**Step 1: Write a function that can print out a board. Set up your board as a list, where each index 1-9 corresponds with a number on a number pad, so you get a 3 by 3 board representation.**"
      ]
    },
    {
      "cell_type": "code",
      "execution_count": 66,
      "metadata": {
        "collapsed": true,
        "id": "2eIZwgb8nTZ1"
      },
      "outputs": [],
      "source": [
        "from IPython.display import clear_output\n",
        "\n",
        "def display_board(board):\n",
        "    print(board[1] + ' | ' + board[2] + ' | ' + board[3])\n",
        "    print('----------')\n",
        "    print(board[4] + ' | ' + board[5] + ' | ' + board[6])\n",
        "    print('----------')\n",
        "    print(board[7] + ' | ' + board[8] + ' | ' + board[9])\n",
        "    pass"
      ]
    },
    {
      "cell_type": "markdown",
      "metadata": {
        "id": "kM3QhE_6nTZ3"
      },
      "source": [
        "**TEST Step 1:** run your function on a test version of the board list, and make adjustments as necessary"
      ]
    },
    {
      "cell_type": "code",
      "execution_count": 70,
      "metadata": {
        "collapsed": true,
        "id": "GPz-KDiJnTZ4",
        "outputId": "5588cb21-77c9-46b1-91e4-52c31257b9fa",
        "colab": {
          "base_uri": "https://localhost:8080/"
        }
      },
      "outputs": [
        {
          "output_type": "stream",
          "name": "stdout",
          "text": [
            "X | O | X\n",
            "----------\n",
            "O | X | O\n",
            "----------\n",
            "X | O | X\n"
          ]
        }
      ],
      "source": [
        "test_board = ['#','X','O','X','O','X','O','X','O','X']\n",
        "display_board(test_board)"
      ]
    },
    {
      "cell_type": "markdown",
      "metadata": {
        "id": "qSerRMLRnTZ5"
      },
      "source": [
        "**Step 2: Write a function that can take in a player input and assign their marker as 'X' or 'O'. Think about using *while* loops to continually ask until you get a correct answer.**"
      ]
    },
    {
      "cell_type": "code",
      "execution_count": 31,
      "metadata": {
        "collapsed": true,
        "id": "vt4C0ClGnTZ6"
      },
      "outputs": [],
      "source": [
        "def player_input():\n",
        "    marker = ''\n",
        "\n",
        "    while not (marker == 'X' or marker == 'O'):\n",
        "      marker = input('Player 1: Do you want to be X or O? ').upper()\n",
        "      if marker == 'X':\n",
        "        print(\"Player 1 is X and Player 2 is O\")\n",
        "        return ('X', 'O')\n",
        "      elif marker == 'O':\n",
        "        print(\"Player 1 is O and Player 2 is X\")\n",
        "        return ('O', 'X')\n",
        "      else:\n",
        "        print(\"Can't you read DUMBASS?\")"
      ]
    },
    {
      "cell_type": "markdown",
      "metadata": {
        "id": "t6pBARyqnTZ9"
      },
      "source": [
        "**TEST Step 2:** run the function to make sure it returns the desired output"
      ]
    },
    {
      "cell_type": "code",
      "execution_count": 32,
      "metadata": {
        "collapsed": true,
        "id": "6iFE_sHwnTZ-",
        "outputId": "4c0f2470-6e61-4c03-d152-0c572a1892b7",
        "colab": {
          "base_uri": "https://localhost:8080/"
        }
      },
      "outputs": [
        {
          "output_type": "stream",
          "name": "stdout",
          "text": [
            "Player 1: Do you want to be X or O? x\n",
            "Player 1 is X and Player 2 is O\n"
          ]
        },
        {
          "output_type": "execute_result",
          "data": {
            "text/plain": [
              "('X', 'O')"
            ]
          },
          "metadata": {},
          "execution_count": 32
        }
      ],
      "source": [
        "player_input()"
      ]
    },
    {
      "cell_type": "markdown",
      "metadata": {
        "id": "Kv0Tp9F7nTZ_"
      },
      "source": [
        "**Step 3: Write a function that takes in the board list object, a marker ('X' or 'O'), and a desired position (number 1-9) and assigns it to the board.**"
      ]
    },
    {
      "cell_type": "code",
      "execution_count": 33,
      "metadata": {
        "collapsed": true,
        "id": "m6JfiBIEnTaA"
      },
      "outputs": [],
      "source": [
        "def place_marker(board, marker, position):\n",
        "  board[position] = marker"
      ]
    },
    {
      "cell_type": "markdown",
      "metadata": {
        "id": "wL2Dwd89nTaA"
      },
      "source": [
        "**TEST Step 3:** run the place marker function using test parameters and display the modified board"
      ]
    },
    {
      "cell_type": "code",
      "execution_count": 34,
      "metadata": {
        "collapsed": true,
        "id": "RhBzEcAEnTaB",
        "outputId": "5bf45835-cabe-4964-f26b-874c042fd8bb",
        "colab": {
          "base_uri": "https://localhost:8080/"
        }
      },
      "outputs": [
        {
          "output_type": "stream",
          "name": "stdout",
          "text": [
            "X | O | X\n",
            "----------\n",
            "O | X | O\n",
            "----------\n",
            "X | $ | X\n"
          ]
        }
      ],
      "source": [
        "place_marker(test_board,'$',8)\n",
        "display_board(test_board)"
      ]
    },
    {
      "cell_type": "markdown",
      "metadata": {
        "id": "4lmOSLddnTaB"
      },
      "source": [
        "\n",
        "\n",
        "```\n",
        "# This is formatted as code\n",
        "```\n",
        "\n",
        "**Step 4: Write a function that takes in a board and a mark (X or O) and then checks to see if that mark has won. **"
      ]
    },
    {
      "cell_type": "code",
      "execution_count": 35,
      "metadata": {
        "collapsed": true,
        "id": "FBQNwCP7nTaC"
      },
      "outputs": [],
      "source": [
        "def win_check(board, mark):\n",
        "    return ((board[7] == mark and board[8] == mark and board[9] == mark) or\n",
        "            (board[4] == mark and board[5] == mark and board[6] == mark) or\n",
        "            (board[1] == mark and board[2] == mark and board[3] == mark) or\n",
        "            (board[7] == mark and board[4] == mark and board[1] == mark) or\n",
        "            (board[8] == mark and board[5] == mark and board[2] == mark) or\n",
        "            (board[9] == mark and board[6] == mark and board[3] == mark) or\n",
        "            (board[7] == mark and board[5] == mark and board[3] == mark) or\n",
        "            (board[9] == mark and board[5] == mark and board[1] == mark))"
      ]
    },
    {
      "cell_type": "markdown",
      "metadata": {
        "id": "4VqO1sK4nTaC"
      },
      "source": [
        "**TEST Step 4:** run the win_check function against our test_board - it should return True"
      ]
    },
    {
      "cell_type": "code",
      "execution_count": 37,
      "metadata": {
        "collapsed": true,
        "id": "WwNX5EfHnTaD",
        "outputId": "5f5b4801-5b77-4c0c-fa4f-18d0feea9971",
        "colab": {
          "base_uri": "https://localhost:8080/"
        }
      },
      "outputs": [
        {
          "output_type": "execute_result",
          "data": {
            "text/plain": [
              "False"
            ]
          },
          "metadata": {},
          "execution_count": 37
        }
      ],
      "source": [
        "win_check(test_board,'O')"
      ]
    },
    {
      "cell_type": "markdown",
      "metadata": {
        "id": "qC7sx1WGnTaD"
      },
      "source": [
        "**Step 5: Write a function that uses the random module to randomly decide which player goes first. You may want to lookup random.randint() Return a string of which player went first.**"
      ]
    },
    {
      "cell_type": "code",
      "execution_count": 38,
      "metadata": {
        "collapsed": true,
        "id": "cLhBOdN6nTaE"
      },
      "outputs": [],
      "source": [
        "import random\n",
        "\n",
        "def choose_first():\n",
        "  fp = random.randint(1, 10)\n",
        "  if fp <= 5:\n",
        "    print(\"Player 1 Plays First\")\n",
        "  else:\n",
        "    print(\"Player 2 Plays First\")"
      ]
    },
    {
      "cell_type": "code",
      "source": [
        "choose_first()"
      ],
      "metadata": {
        "id": "soGoWZ0mwElm",
        "outputId": "1c0d5dd8-78da-4ab0-c116-b4e69e31a8ae",
        "colab": {
          "base_uri": "https://localhost:8080/"
        }
      },
      "execution_count": 52,
      "outputs": [
        {
          "output_type": "stream",
          "name": "stdout",
          "text": [
            "Player 1 Plays First\n"
          ]
        }
      ]
    },
    {
      "cell_type": "markdown",
      "metadata": {
        "id": "OPd5UDzanTaF"
      },
      "source": [
        "**Step 6: Write a function that returns a boolean indicating whether a space on the board is freely available.**"
      ]
    },
    {
      "cell_type": "code",
      "execution_count": 55,
      "metadata": {
        "collapsed": true,
        "id": "yo0LP_HEnTaF"
      },
      "outputs": [],
      "source": [
        "def space_check(board, position):\n",
        "  if board[position] == \" \":\n",
        "    return True"
      ]
    },
    {
      "cell_type": "markdown",
      "metadata": {
        "id": "Qyvmm7q3nTaF"
      },
      "source": [
        "\n",
        "\n",
        "```\n",
        "# This is formatted as code\n",
        "```\n",
        "\n",
        "**Step 7: Write a function that checks if the board is full and returns a boolean value. True if full, False otherwise.**"
      ]
    },
    {
      "cell_type": "code",
      "execution_count": 64,
      "metadata": {
        "collapsed": true,
        "id": "FO1v_6O5nTaG"
      },
      "outputs": [],
      "source": [
        "def full_board_check(board):\n",
        "  for i in range(1, 10):\n",
        "    if board[i] == \" \":\n",
        "      return False\n",
        "  return True"
      ]
    },
    {
      "cell_type": "code",
      "source": [
        "full_board_check(test_board)"
      ],
      "metadata": {
        "id": "Kcaj7nRJxT7s",
        "outputId": "125b3a67-81c5-4250-e3e7-74e48435a4f3",
        "colab": {
          "base_uri": "https://localhost:8080/"
        }
      },
      "execution_count": 71,
      "outputs": [
        {
          "output_type": "execute_result",
          "data": {
            "text/plain": [
              "True"
            ]
          },
          "metadata": {},
          "execution_count": 71
        }
      ]
    },
    {
      "cell_type": "markdown",
      "metadata": {
        "id": "CC7lFMHJnTaH"
      },
      "source": [
        "**Step 8: Write a function that asks for a player's next position (as a number 1-9) and then uses the function from step 6 to check if it's a free position. If it is, then return the position for later use.**"
      ]
    },
    {
      "cell_type": "code",
      "execution_count": null,
      "metadata": {
        "collapsed": true,
        "id": "zv_rtrBInTaH"
      },
      "outputs": [],
      "source": [
        "def player_choice(board):\n",
        "\n",
        "    pass"
      ]
    },
    {
      "cell_type": "markdown",
      "metadata": {
        "id": "GHshc34QnTaI"
      },
      "source": [
        "**Step 9: Write a function that asks the player if they want to play again and returns a boolean True if they do want to play again.**"
      ]
    },
    {
      "cell_type": "code",
      "execution_count": null,
      "metadata": {
        "collapsed": true,
        "id": "4PiWJo1UnTaI"
      },
      "outputs": [],
      "source": [
        "def replay():\n",
        "\n",
        "    pass"
      ]
    },
    {
      "cell_type": "markdown",
      "metadata": {
        "collapsed": true,
        "id": "whEN03BfnTaI"
      },
      "source": [
        "**Step 10: Here comes the hard part! Use while loops and the functions you've made to run the game!**"
      ]
    },
    {
      "cell_type": "code",
      "execution_count": null,
      "metadata": {
        "collapsed": true,
        "id": "QpVkUxU_nTaJ"
      },
      "outputs": [],
      "source": [
        "print('Welcome to Tic Tac Toe!')\n",
        "\n",
        "#while True:\n",
        "    # Set the game up here\n",
        "    #pass\n",
        "\n",
        "    #while game_on:\n",
        "        #Player 1 Turn\n",
        "\n",
        "\n",
        "        # Player2's turn.\n",
        "\n",
        "            #pass\n",
        "\n",
        "    #if not replay():\n",
        "        #break"
      ]
    },
    {
      "cell_type": "markdown",
      "metadata": {
        "collapsed": true,
        "id": "ytfuUA4fnTaJ"
      },
      "source": [
        "## Good Job!"
      ]
    }
  ],
  "metadata": {
    "kernelspec": {
      "display_name": "Python 3",
      "language": "python",
      "name": "python3"
    },
    "language_info": {
      "codemirror_mode": {
        "name": "ipython",
        "version": 3
      },
      "file_extension": ".py",
      "mimetype": "text/x-python",
      "name": "python",
      "nbconvert_exporter": "python",
      "pygments_lexer": "ipython3",
      "version": "3.6.6"
    },
    "colab": {
      "provenance": []
    }
  },
  "nbformat": 4,
  "nbformat_minor": 0
}